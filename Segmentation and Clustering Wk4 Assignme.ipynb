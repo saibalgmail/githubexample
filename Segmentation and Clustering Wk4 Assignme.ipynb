{
    "cells": [
        {
            "cell_type": "markdown",
            "metadata": {
                "collapsed": true
            },
            "source": "<h1> Opportunity Statement </h1>\nA vendor wants to open a new plant nursery in Newyork.  He is exploring which place it would be appropriate to open."
        },
        {
            "cell_type": "markdown",
            "metadata": {},
            "source": "We would try to understand where in Newyork it would be appropriate considering the logistics and customer convenience"
        },
        {
            "cell_type": "markdown",
            "metadata": {},
            "source": "Plant nursery are generally present where there is residential location nearby so that people can easily find them. Near home location gives the prospective buyers spend time and visit frequently. Also another factor to consider is the location access to big transport vehicles and it should also have a parking space for client's cars to park.\n\nIdeal place would be open plot in the backyard and office building in the front or in the center of the plot. \n\n<h1> Data </h1>\n\nI will extract the name of the neighborhoods of NewYork from the following link in Wikipedia\nhttps://en.wikipedia.org/wiki/Neighborhoods_in_New_York_City\n\n\nI will then try to extract vacant plot details from \nhttps://data.cityofnewyork.us/Housing-Development/Vacant-Publicly-Owned-Land/c8vj-e9jc\nhttps://data.cityofnewyork.us/Housing-Development/IPIS-Integrated-Property-Information-System-/n5mv-nfpy/data\nhttps://en.wikipedia.org/wiki/Boroughs_of_New_York_City\n\n\n\n"
        },
        {
            "cell_type": "code",
            "execution_count": null,
            "metadata": {},
            "outputs": [],
            "source": ""
        }
    ],
    "metadata": {
        "kernelspec": {
            "display_name": "Python 3.6",
            "language": "python",
            "name": "python3"
        },
        "language_info": {
            "codemirror_mode": {
                "name": "ipython",
                "version": 3
            },
            "file_extension": ".py",
            "mimetype": "text/x-python",
            "name": "python",
            "nbconvert_exporter": "python",
            "pygments_lexer": "ipython3",
            "version": "3.6.8"
        }
    },
    "nbformat": 4,
    "nbformat_minor": 1
}